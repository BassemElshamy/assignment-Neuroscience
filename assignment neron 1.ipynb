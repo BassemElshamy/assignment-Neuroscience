{
 "cells": [
  {
   "cell_type": "code",
   "execution_count": 2,
   "id": "d22584f3-d33f-456c-8ba3-7a2b5b840362",
   "metadata": {},
   "outputs": [
    {
     "name": "stdout",
     "output_type": "stream",
     "text": [
      "Output of the network: [[0.57577107]]\n"
     ]
    }
   ],
   "source": [
    "import numpy as np\n",
    "\n",
    "np.random.seed(42)\n",
    "W1 = np.random.uniform(-0.5, 0.5, (3, 2)) \n",
    "W2 = np.random.uniform(-0.5, 0.5, (2, 1))  \n",
    "b1 = 0.5\n",
    "b2 = 0.7\n",
    "\n",
    "X = np.random.uniform(-1, 1, (1, 3))\n",
    "\n",
    "H = np.tanh(np.dot(X, W1) + b1)  \n",
    "O = np.tanh(np.dot(H, W2) + b2)  \n",
    "\n",
    "print(\"Output of the network:\", O)\n"
   ]
  }
 ],
 "metadata": {
  "kernelspec": {
   "display_name": "Python 3 (ipykernel)",
   "language": "python",
   "name": "python3"
  },
  "language_info": {
   "codemirror_mode": {
    "name": "ipython",
    "version": 3
   },
   "file_extension": ".py",
   "mimetype": "text/x-python",
   "name": "python",
   "nbconvert_exporter": "python",
   "pygments_lexer": "ipython3",
   "version": "3.12.4"
  }
 },
 "nbformat": 4,
 "nbformat_minor": 5
}
